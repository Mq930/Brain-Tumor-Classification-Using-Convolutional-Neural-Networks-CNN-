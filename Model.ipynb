{
 "cells": [
  {
   "cell_type": "markdown",
   "id": "d5345e3d-fd05-4f88-8491-c9941bab7c61",
   "metadata": {},
   "source": [
    "# CNN Model"
   ]
  },
  {
   "cell_type": "markdown",
   "id": "d08d6ce2-a88a-4ab5-b5c3-42ec419b7bdb",
   "metadata": {},
   "source": [
    "## Importing All the necessary Libraries"
   ]
  },
  {
   "cell_type": "code",
   "execution_count": null,
   "id": "f2b9406f-f7c6-494b-9663-a01de6644a52",
   "metadata": {
    "id": "f2b9406f-f7c6-494b-9663-a01de6644a52"
   },
   "outputs": [],
   "source": [
    "import pandas as pd\n",
    "import numpy as np\n",
    "import matplotlib.pyplot as plt\n",
    "import seaborn as sns\n",
    "import tensorflow as tf\n",
    "from tensorflow import keras\n",
    "import warnings\n",
    "warnings.filterwarnings(\"ignore\")\n",
    "import cv2\n",
    "import pathlib"
   ]
  },
  {
   "cell_type": "markdown",
   "id": "f4b451fb-87d0-4b88-8fcc-45d2e7e31865",
   "metadata": {},
   "source": [
    "## Unarchieving \n",
    "Unzipping the achieved file downloaded from\n",
    "\n",
    "`URL`- https://www.kaggle.com/datasets/masoudnickparvar/brain-tumor-mri-dataset"
   ]
  },
  {
   "cell_type": "code",
   "execution_count": null,
   "id": "9k1-dYiAQxr4",
   "metadata": {
    "id": "9k1-dYiAQxr4"
   },
   "outputs": [],
   "source": [
    "import zipfile\n",
    "\n",
    "zip_file_path = '/content/archive.zip'\n",
    "destination_directory = '/content/archive'\n",
    "\n",
    "with zipfile.ZipFile(zip_file_path, 'r') as zip_ref:\n",
    "    zip_ref.extractall(destination_directory)"
   ]
  },
  {
   "cell_type": "markdown",
   "id": "e0ed6525-acb6-445c-8c52-5ac2ed106d12",
   "metadata": {},
   "source": [
    "## Extracting\n",
    "Extracting all the necessary pictures for model training and validation using Pathlib"
   ]
  },
  {
   "cell_type": "code",
   "execution_count": null,
   "id": "41a93b09-41e6-4ea9-8ddc-46168a2ab151",
   "metadata": {
    "colab": {
     "base_uri": "https://localhost:8080/"
    },
    "id": "41a93b09-41e6-4ea9-8ddc-46168a2ab151",
    "outputId": "54054a8c-17d0-44d4-ca71-937db67b99c9"
   },
   "outputs": [
    {
     "data": {
      "text/plain": [
       "PosixPath('/content')"
      ]
     },
     "execution_count": 2,
     "metadata": {},
     "output_type": "execute_result"
    }
   ],
   "source": [
    "path=pathlib.Path.cwd()\n",
    "path"
   ]
  },
  {
   "cell_type": "code",
   "execution_count": null,
   "id": "83603489-88d0-4564-a4e6-1cc14d214e34",
   "metadata": {
    "id": "83603489-88d0-4564-a4e6-1cc14d214e34"
   },
   "outputs": [],
   "source": [
    "p=list(path.glob(\"archive\"))\n",
    "path=pathlib.Path(p[0])"
   ]
  },
  {
   "cell_type": "code",
   "execution_count": null,
   "id": "d23ddedc-9850-49b0-8f0e-4bc9f1a05e6d",
   "metadata": {
    "colab": {
     "base_uri": "https://localhost:8080/"
    },
    "id": "d23ddedc-9850-49b0-8f0e-4bc9f1a05e6d",
    "outputId": "850367c2-c398-4d49-dcac-da950c4e217f"
   },
   "outputs": [
    {
     "data": {
      "text/plain": [
       "PosixPath('/content/archive')"
      ]
     },
     "execution_count": 4,
     "metadata": {},
     "output_type": "execute_result"
    }
   ],
   "source": [
    "path"
   ]
  },
  {
   "cell_type": "code",
   "execution_count": null,
   "id": "05453941-11f8-497d-b536-0a14dec9558e",
   "metadata": {
    "colab": {
     "base_uri": "https://localhost:8080/"
    },
    "id": "05453941-11f8-497d-b536-0a14dec9558e",
    "outputId": "d2ee6213-140f-41ff-a2e4-46101f0f8003"
   },
   "outputs": [
    {
     "data": {
      "text/plain": [
       "[PosixPath('/content/archive/Training/glioma/Tr-gl_0162.jpg'),\n",
       " PosixPath('/content/archive/Training/glioma/Tr-gl_0406.jpg'),\n",
       " PosixPath('/content/archive/Training/glioma/Tr-gl_0129.jpg'),\n",
       " PosixPath('/content/archive/Training/glioma/Tr-gl_0078.jpg'),\n",
       " PosixPath('/content/archive/Training/glioma/Tr-gl_0206.jpg')]"
      ]
     },
     "execution_count": 5,
     "metadata": {},
     "output_type": "execute_result"
    }
   ],
   "source": [
    "list(path.glob(\"Training/glioma/*.jpg\"))[:5]"
   ]
  },
  {
   "cell_type": "code",
   "execution_count": null,
   "id": "4faa6bfe-49fa-4808-8439-17d1a22adda1",
   "metadata": {
    "id": "4faa6bfe-49fa-4808-8439-17d1a22adda1"
   },
   "outputs": [],
   "source": [
    "X_dict={\n",
    "    \"glioma\":list(path.glob(\"Training/glioma/*.jpg\")),\n",
    "    \"meningioma\":list(path.glob(\"Training/meningioma/*.jpg\")),\n",
    "    \"notumor\":list(path.glob(\"Training/notumor/*.jpg\")),\n",
    "    \"pituitary\":list(path.glob(\"Training/pituitary/*.jpg\"))\n",
    "}"
   ]
  },
  {
   "cell_type": "code",
   "execution_count": null,
   "id": "4531448e-4089-448e-8bfa-f80534768239",
   "metadata": {
    "id": "4531448e-4089-448e-8bfa-f80534768239"
   },
   "outputs": [],
   "source": [
    "Y_dict={\n",
    "    \"glioma\":0,\n",
    "    \"meningioma\":1,\n",
    "    \"notumor\":2,\n",
    "    \"pituitary\":3\n",
    "}"
   ]
  },
  {
   "cell_type": "code",
   "execution_count": null,
   "id": "2815552c-e9ba-443b-b6c9-d66da2900157",
   "metadata": {
    "colab": {
     "base_uri": "https://localhost:8080/"
    },
    "id": "2815552c-e9ba-443b-b6c9-d66da2900157",
    "outputId": "7c52e043-378a-4116-ec72-27db441fbaa9"
   },
   "outputs": [
    {
     "data": {
      "text/plain": [
       "2"
      ]
     },
     "execution_count": 8,
     "metadata": {},
     "output_type": "execute_result"
    }
   ],
   "source": [
    "j=plt.imread(list(X_dict.values())[1][0])\n",
    "len(j.shape)"
   ]
  },
  {
   "cell_type": "code",
   "execution_count": null,
   "id": "cf32c445-280d-46db-9229-a48e40834554",
   "metadata": {
    "id": "cf32c445-280d-46db-9229-a48e40834554"
   },
   "outputs": [],
   "source": [
    "x = []\n",
    "y = []\n",
    "k=[]\n",
    "for names, image in X_dict.items():\n",
    "    for img in image:\n",
    "        a = plt.imread(str(img))\n",
    "        if len(a.shape) == 2:\n",
    "            a = cv2.cvtColor(a, cv2.COLOR_GRAY2RGB)\n",
    "        if len(a.shape) == 3 and a.shape[2]==4:\n",
    "            a = cv2.cvtColor(a, cv2.COLOR_RGBA2RGB)\n",
    "        a = cv2.resize(a, (200, 200))\n",
    "\n",
    "        if a.shape == (200, 200, 3):\n",
    "            x.append(a)\n",
    "            y.append(Y_dict[names])\n",
    "        else:\n",
    "            k.append(a)\n",
    "x = np.array(x)\n",
    "y = np.array(y)"
   ]
  },
  {
   "cell_type": "code",
   "execution_count": null,
   "id": "71dfd3fd-0174-4085-be13-2255007c0132",
   "metadata": {
    "colab": {
     "base_uri": "https://localhost:8080/"
    },
    "id": "71dfd3fd-0174-4085-be13-2255007c0132",
    "outputId": "13039e76-c1f7-4a47-b15b-367d4a1f9344"
   },
   "outputs": [
    {
     "data": {
      "text/plain": [
       "[]"
      ]
     },
     "execution_count": 10,
     "metadata": {},
     "output_type": "execute_result"
    }
   ],
   "source": [
    "k"
   ]
  },
  {
   "cell_type": "code",
   "execution_count": null,
   "id": "47e44c21-3da0-4e1e-a0ff-c1ea68bc6715",
   "metadata": {
    "colab": {
     "base_uri": "https://localhost:8080/"
    },
    "id": "47e44c21-3da0-4e1e-a0ff-c1ea68bc6715",
    "outputId": "e8b10564-c7f4-46ef-e936-5a0fc0e2ee35"
   },
   "outputs": [
    {
     "data": {
      "text/plain": [
       "array([0, 1, 2, 3])"
      ]
     },
     "execution_count": 11,
     "metadata": {},
     "output_type": "execute_result"
    }
   ],
   "source": [
    "np.unique(y)"
   ]
  },
  {
   "cell_type": "markdown",
   "id": "adddd0d0-863c-405c-b52d-30764a962ee8",
   "metadata": {},
   "source": [
    "## Spliting The data"
   ]
  },
  {
   "cell_type": "code",
   "execution_count": null,
   "id": "caa40ff2-0197-4b86-a81f-192a1a55e535",
   "metadata": {
    "id": "caa40ff2-0197-4b86-a81f-192a1a55e535"
   },
   "outputs": [],
   "source": [
    "from sklearn.model_selection import train_test_split\n",
    "X,tx,Y,ty=train_test_split(x,y,test_size=0.2,random_state=42)"
   ]
  },
  {
   "cell_type": "code",
   "execution_count": null,
   "id": "842bbbe5-7b07-45fa-93a3-d635d5e1e193",
   "metadata": {
    "colab": {
     "base_uri": "https://localhost:8080/"
    },
    "id": "842bbbe5-7b07-45fa-93a3-d635d5e1e193",
    "outputId": "0d6f0d51-f25f-451b-8896-9ab7c4d259ea"
   },
   "outputs": [
    {
     "data": {
      "text/plain": [
       "array([0, 1, 2, 3])"
      ]
     },
     "execution_count": 13,
     "metadata": {},
     "output_type": "execute_result"
    }
   ],
   "source": [
    "np.unique(Y)"
   ]
  },
  {
   "cell_type": "code",
   "execution_count": null,
   "id": "afd0ff03-91b3-4164-a165-dd194fe69078",
   "metadata": {
    "colab": {
     "base_uri": "https://localhost:8080/"
    },
    "id": "afd0ff03-91b3-4164-a165-dd194fe69078",
    "outputId": "7e2d3810-9ce3-43ba-9715-afb71e429e3e"
   },
   "outputs": [
    {
     "data": {
      "text/plain": [
       "array([0, 1, 2, 3])"
      ]
     },
     "execution_count": 14,
     "metadata": {},
     "output_type": "execute_result"
    }
   ],
   "source": [
    "np.unique(ty)"
   ]
  },
  {
   "cell_type": "code",
   "execution_count": null,
   "id": "2e504177-2d64-4afe-9126-9edace0c3c50",
   "metadata": {
    "id": "2e504177-2d64-4afe-9126-9edace0c3c50"
   },
   "outputs": [],
   "source": [
    "X=X/255\n",
    "tx=tx/255"
   ]
  },
  {
   "cell_type": "markdown",
   "id": "e387c308-50ac-497e-93aa-16273c2ba84b",
   "metadata": {},
   "source": [
    "# CNN Model"
   ]
  },
  {
   "cell_type": "markdown",
   "id": "19868d3d-160f-4d6e-9c58-38802469e81a",
   "metadata": {},
   "source": [
    "## Building the CNN Model\n",
    "Defining the architecture of the CNN, including convolutional layers, activation functions, and pooling layers."
   ]
  },
  {
   "cell_type": "code",
   "execution_count": null,
   "id": "17a5c007-0d00-49e8-9813-2f9d570f49c6",
   "metadata": {
    "id": "17a5c007-0d00-49e8-9813-2f9d570f49c6"
   },
   "outputs": [],
   "source": [
    "da=keras.Sequential([\n",
    "    keras.layers.RandomZoom(0.4,input_shape=(200,200,3)),\n",
    "    keras.layers.RandomRotation(0.4),\n",
    "])"
   ]
  },
  {
   "cell_type": "code",
   "execution_count": null,
   "id": "4bf2a56f-c615-4b48-9ab5-236680227924",
   "metadata": {
    "id": "4bf2a56f-c615-4b48-9ab5-236680227924"
   },
   "outputs": [],
   "source": [
    "red=keras.callbacks.ReduceLROnPlateau(factor=0.8,monitor=\"val_accuracy\",patience=3,verbose=1)"
   ]
  },
  {
   "cell_type": "code",
   "execution_count": null,
   "id": "231493b2-57f5-40d6-8b29-f5315172f3fd",
   "metadata": {
    "id": "231493b2-57f5-40d6-8b29-f5315172f3fd"
   },
   "outputs": [],
   "source": [
    "early=keras.callbacks.EarlyStopping(monitor=\"val_accuracy\",patience=30,restore_best_weights=True)"
   ]
  },
  {
   "cell_type": "code",
   "execution_count": null,
   "id": "b9e2fa74-89dc-4307-b28e-0ef62cdb9786",
   "metadata": {
    "id": "b9e2fa74-89dc-4307-b28e-0ef62cdb9786"
   },
   "outputs": [],
   "source": [
    "model=keras.Sequential([\n",
    "    da,\n",
    "    keras.layers.Conv2D(filters=32,kernel_size=(3,3),padding=\"same\",activation=\"relu\"),\n",
    "    keras.layers.BatchNormalization(),\n",
    "    keras.layers.MaxPooling2D((2,2)),\n",
    "    keras.layers.Conv2D(filters=64,kernel_size=(3,3),padding=\"same\",activation=\"relu\"),\n",
    "    keras.layers.BatchNormalization(),\n",
    "    keras.layers.MaxPooling2D((2,2)),\n",
    "    keras.layers.Conv2D(filters=128,kernel_size=(3,3),padding=\"same\",activation=\"relu\"),\n",
    "    keras.layers.BatchNormalization(),\n",
    "    keras.layers.MaxPooling2D((2,2)),\n",
    "    keras.layers.Conv2D(filters=256,kernel_size=(3,3),padding=\"same\",activation=\"relu\"),\n",
    "    keras.layers.BatchNormalization(),\n",
    "    keras.layers.MaxPooling2D((2,2)),\n",
    "    keras.layers.Conv2D(filters=512,kernel_size=(3,3),padding=\"same\",activation=\"relu\"),\n",
    "    keras.layers.BatchNormalization(),\n",
    "    keras.layers.MaxPooling2D((2,2)),\n",
    "    keras.layers.Flatten(),\n",
    "    keras.layers.Dense(512,activation=\"relu\",kernel_regularizer=keras.regularizers.L2(0.03)),\n",
    "    keras.layers.Dropout(0.3),\n",
    "    keras.layers.Dense(256,activation=\"relu\",kernel_regularizer=keras.regularizers.L2(0.03)),\n",
    "    keras.layers.Dropout(0.2),\n",
    "    keras.layers.Dense(128,activation=\"relu\",kernel_regularizer=keras.regularizers.L2(0.03)),\n",
    "    keras.layers.Dropout(0.2),\n",
    "    keras.layers.Dense(64,activation=\"relu\"),\n",
    "    keras.layers.Dropout(0.2),\n",
    "    keras.layers.Dense(32,activation=\"relu\"),\n",
    "    keras.layers.Dense(4,activation=\"softmax\"),\n",
    "])"
   ]
  },
  {
   "cell_type": "markdown",
   "id": "5079b4e4-f01f-4117-b042-ceee7f643162",
   "metadata": {},
   "source": [
    "## Training the Model\n",
    "Compiling and training the CNN model using an appropriate loss function and optimizer."
   ]
  },
  {
   "cell_type": "code",
   "execution_count": null,
   "id": "f184d676-6b83-45e7-bd74-9d8f32261bb3",
   "metadata": {
    "id": "f184d676-6b83-45e7-bd74-9d8f32261bb3"
   },
   "outputs": [],
   "source": [
    "model.compile(optimizer=\"adam\",loss=\"sparse_categorical_crossentropy\",metrics=[\"accuracy\"])"
   ]
  },
  {
   "cell_type": "code",
   "execution_count": null,
   "id": "4d557bd7-9164-45b9-b5fb-a3115a08fd26",
   "metadata": {
    "colab": {
     "base_uri": "https://localhost:8080/"
    },
    "id": "4d557bd7-9164-45b9-b5fb-a3115a08fd26",
    "outputId": "62e80a46-bfde-431c-a6f6-d835ad897856"
   },
   "outputs": [
    {
     "name": "stdout",
     "output_type": "stream",
     "text": [
      "Epoch 1/100\n",
      "\u001b[1m143/143\u001b[0m \u001b[32m━━━━━━━━━━━━━━━━━━━━\u001b[0m\u001b[37m\u001b[0m \u001b[1m32s\u001b[0m 146ms/step - accuracy: 0.4011 - loss: 29.8764 - val_accuracy: 0.2668 - val_loss: 8.5995 - learning_rate: 0.0010\n",
      "Epoch 2/100\n",
      "\u001b[1m143/143\u001b[0m \u001b[32m━━━━━━━━━━━━━━━━━━━━\u001b[0m\u001b[37m\u001b[0m \u001b[1m34s\u001b[0m 127ms/step - accuracy: 0.5303 - loss: 7.1824 - val_accuracy: 0.2703 - val_loss: 5.6002 - learning_rate: 0.0010\n",
      "Epoch 3/100\n",
      "\u001b[1m143/143\u001b[0m \u001b[32m━━━━━━━━━━━━━━━━━━━━\u001b[0m\u001b[37m\u001b[0m \u001b[1m20s\u001b[0m 125ms/step - accuracy: 0.6203 - loss: 4.3373 - val_accuracy: 0.3543 - val_loss: 4.1526 - learning_rate: 0.0010\n",
      "Epoch 4/100\n",
      "\u001b[1m143/143\u001b[0m \u001b[32m━━━━━━━━━━━━━━━━━━━━\u001b[0m\u001b[37m\u001b[0m \u001b[1m21s\u001b[0m 126ms/step - accuracy: 0.6835 - loss: 2.8127 - val_accuracy: 0.6019 - val_loss: 2.2952 - learning_rate: 0.0010\n",
      "Epoch 5/100\n",
      "\u001b[1m143/143\u001b[0m \u001b[32m━━━━━━━━━━━━━━━━━━━━\u001b[0m\u001b[37m\u001b[0m \u001b[1m21s\u001b[0m 129ms/step - accuracy: 0.6749 - loss: 2.0481 - val_accuracy: 0.6719 - val_loss: 1.6277 - learning_rate: 0.0010\n",
      "Epoch 6/100\n",
      "\u001b[1m143/143\u001b[0m \u001b[32m━━━━━━━━━━━━━━━━━━━━\u001b[0m\u001b[37m\u001b[0m \u001b[1m20s\u001b[0m 125ms/step - accuracy: 0.7014 - loss: 1.5790 - val_accuracy: 0.6360 - val_loss: 1.4381 - learning_rate: 0.0010\n",
      "Epoch 7/100\n",
      "\u001b[1m143/143\u001b[0m \u001b[32m━━━━━━━━━━━━━━━━━━━━\u001b[0m\u001b[37m\u001b[0m \u001b[1m18s\u001b[0m 128ms/step - accuracy: 0.7251 - loss: 1.3625 - val_accuracy: 0.6570 - val_loss: 1.2930 - learning_rate: 0.0010\n",
      "Epoch 8/100\n",
      "\u001b[1m143/143\u001b[0m \u001b[32m━━━━━━━━━━━━━━━━━━━━\u001b[0m\u001b[37m\u001b[0m \u001b[1m0s\u001b[0m 118ms/step - accuracy: 0.7395 - loss: 1.2548\n",
      "Epoch 8: ReduceLROnPlateau reducing learning rate to 0.000800000037997961.\n",
      "\u001b[1m143/143\u001b[0m \u001b[32m━━━━━━━━━━━━━━━━━━━━\u001b[0m\u001b[37m\u001b[0m \u001b[1m20s\u001b[0m 126ms/step - accuracy: 0.7395 - loss: 1.2545 - val_accuracy: 0.3911 - val_loss: 3.0331 - learning_rate: 0.0010\n",
      "Epoch 9/100\n",
      "\u001b[1m143/143\u001b[0m \u001b[32m━━━━━━━━━━━━━━━━━━━━\u001b[0m\u001b[37m\u001b[0m \u001b[1m21s\u001b[0m 127ms/step - accuracy: 0.7501 - loss: 1.0698 - val_accuracy: 0.2861 - val_loss: 3.1130 - learning_rate: 8.0000e-04\n",
      "Epoch 10/100\n",
      "\u001b[1m143/143\u001b[0m \u001b[32m━━━━━━━━━━━━━━━━━━━━\u001b[0m\u001b[37m\u001b[0m \u001b[1m20s\u001b[0m 127ms/step - accuracy: 0.7779 - loss: 0.9919 - val_accuracy: 0.7918 - val_loss: 0.9010 - learning_rate: 8.0000e-04\n",
      "Epoch 11/100\n",
      "\u001b[1m143/143\u001b[0m \u001b[32m━━━━━━━━━━━━━━━━━━━━\u001b[0m\u001b[37m\u001b[0m \u001b[1m20s\u001b[0m 125ms/step - accuracy: 0.8054 - loss: 0.9438 - val_accuracy: 0.6194 - val_loss: 1.5189 - learning_rate: 8.0000e-04\n",
      "Epoch 12/100\n",
      "\u001b[1m143/143\u001b[0m \u001b[32m━━━━━━━━━━━━━━━━━━━━\u001b[0m\u001b[37m\u001b[0m \u001b[1m18s\u001b[0m 124ms/step - accuracy: 0.8026 - loss: 0.9321 - val_accuracy: 0.7349 - val_loss: 0.9937 - learning_rate: 8.0000e-04\n",
      "Epoch 13/100\n",
      "\u001b[1m143/143\u001b[0m \u001b[32m━━━━━━━━━━━━━━━━━━━━\u001b[0m\u001b[37m\u001b[0m \u001b[1m0s\u001b[0m 118ms/step - accuracy: 0.8113 - loss: 0.9002\n",
      "Epoch 13: ReduceLROnPlateau reducing learning rate to 0.0006400000303983689.\n",
      "\u001b[1m143/143\u001b[0m \u001b[32m━━━━━━━━━━━━━━━━━━━━\u001b[0m\u001b[37m\u001b[0m \u001b[1m18s\u001b[0m 127ms/step - accuracy: 0.8113 - loss: 0.9001 - val_accuracy: 0.5328 - val_loss: 1.5557 - learning_rate: 8.0000e-04\n",
      "Epoch 14/100\n",
      "\u001b[1m143/143\u001b[0m \u001b[32m━━━━━━━━━━━━━━━━━━━━\u001b[0m\u001b[37m\u001b[0m \u001b[1m21s\u001b[0m 127ms/step - accuracy: 0.8147 - loss: 0.8551 - val_accuracy: 0.8066 - val_loss: 0.7635 - learning_rate: 6.4000e-04\n",
      "Epoch 15/100\n",
      "\u001b[1m143/143\u001b[0m \u001b[32m━━━━━━━━━━━━━━━━━━━━\u001b[0m\u001b[37m\u001b[0m \u001b[1m20s\u001b[0m 127ms/step - accuracy: 0.8357 - loss: 0.7692 - val_accuracy: 0.7288 - val_loss: 0.9545 - learning_rate: 6.4000e-04\n",
      "Epoch 16/100\n",
      "\u001b[1m143/143\u001b[0m \u001b[32m━━━━━━━━━━━━━━━━━━━━\u001b[0m\u001b[37m\u001b[0m \u001b[1m20s\u001b[0m 127ms/step - accuracy: 0.8324 - loss: 0.8120 - val_accuracy: 0.6159 - val_loss: 1.7917 - learning_rate: 6.4000e-04\n",
      "Epoch 17/100\n",
      "\u001b[1m143/143\u001b[0m \u001b[32m━━━━━━━━━━━━━━━━━━━━\u001b[0m\u001b[37m\u001b[0m \u001b[1m0s\u001b[0m 118ms/step - accuracy: 0.8485 - loss: 0.7617\n",
      "Epoch 17: ReduceLROnPlateau reducing learning rate to 0.0005120000336319208.\n",
      "\u001b[1m143/143\u001b[0m \u001b[32m━━━━━━━━━━━━━━━━━━━━\u001b[0m\u001b[37m\u001b[0m \u001b[1m20s\u001b[0m 125ms/step - accuracy: 0.8485 - loss: 0.7618 - val_accuracy: 0.7515 - val_loss: 0.9416 - learning_rate: 6.4000e-04\n",
      "Epoch 18/100\n",
      "\u001b[1m143/143\u001b[0m \u001b[32m━━━━━━━━━━━━━━━━━━━━\u001b[0m\u001b[37m\u001b[0m \u001b[1m20s\u001b[0m 125ms/step - accuracy: 0.8451 - loss: 0.7099 - val_accuracy: 0.8198 - val_loss: 0.7424 - learning_rate: 5.1200e-04\n",
      "Epoch 19/100\n",
      "\u001b[1m143/143\u001b[0m \u001b[32m━━━━━━━━━━━━━━━━━━━━\u001b[0m\u001b[37m\u001b[0m \u001b[1m18s\u001b[0m 125ms/step - accuracy: 0.8647 - loss: 0.6458 - val_accuracy: 0.8548 - val_loss: 0.6703 - learning_rate: 5.1200e-04\n",
      "Epoch 20/100\n",
      "\u001b[1m143/143\u001b[0m \u001b[32m━━━━━━━━━━━━━━━━━━━━\u001b[0m\u001b[37m\u001b[0m \u001b[1m21s\u001b[0m 127ms/step - accuracy: 0.8707 - loss: 0.6600 - val_accuracy: 0.8101 - val_loss: 0.8072 - learning_rate: 5.1200e-04\n",
      "Epoch 21/100\n",
      "\u001b[1m143/143\u001b[0m \u001b[32m━━━━━━━━━━━━━━━━━━━━\u001b[0m\u001b[37m\u001b[0m \u001b[1m18s\u001b[0m 125ms/step - accuracy: 0.8812 - loss: 0.6377 - val_accuracy: 0.7428 - val_loss: 1.0102 - learning_rate: 5.1200e-04\n",
      "Epoch 22/100\n",
      "\u001b[1m143/143\u001b[0m \u001b[32m━━━━━━━━━━━━━━━━━━━━\u001b[0m\u001b[37m\u001b[0m \u001b[1m0s\u001b[0m 118ms/step - accuracy: 0.8767 - loss: 0.6798\n",
      "Epoch 22: ReduceLROnPlateau reducing learning rate to 0.00040960004553198815.\n",
      "\u001b[1m143/143\u001b[0m \u001b[32m━━━━━━━━━━━━━━━━━━━━\u001b[0m\u001b[37m\u001b[0m \u001b[1m21s\u001b[0m 125ms/step - accuracy: 0.8767 - loss: 0.6796 - val_accuracy: 0.8530 - val_loss: 0.6699 - learning_rate: 5.1200e-04\n",
      "Epoch 23/100\n",
      "\u001b[1m143/143\u001b[0m \u001b[32m━━━━━━━━━━━━━━━━━━━━\u001b[0m\u001b[37m\u001b[0m \u001b[1m21s\u001b[0m 126ms/step - accuracy: 0.8903 - loss: 0.5709 - val_accuracy: 0.8119 - val_loss: 0.7587 - learning_rate: 4.0960e-04\n",
      "Epoch 24/100\n",
      "\u001b[1m143/143\u001b[0m \u001b[32m━━━━━━━━━━━━━━━━━━━━\u001b[0m\u001b[37m\u001b[0m \u001b[1m20s\u001b[0m 125ms/step - accuracy: 0.9008 - loss: 0.5504 - val_accuracy: 0.8600 - val_loss: 0.6265 - learning_rate: 4.0960e-04\n",
      "Epoch 25/100\n",
      "\u001b[1m143/143\u001b[0m \u001b[32m━━━━━━━━━━━━━━━━━━━━\u001b[0m\u001b[37m\u001b[0m \u001b[1m21s\u001b[0m 128ms/step - accuracy: 0.8976 - loss: 0.5785 - val_accuracy: 0.9038 - val_loss: 0.5244 - learning_rate: 4.0960e-04\n",
      "Epoch 26/100\n",
      "\u001b[1m143/143\u001b[0m \u001b[32m━━━━━━━━━━━━━━━━━━━━\u001b[0m\u001b[37m\u001b[0m \u001b[1m20s\u001b[0m 125ms/step - accuracy: 0.9045 - loss: 0.5396 - val_accuracy: 0.8968 - val_loss: 0.5433 - learning_rate: 4.0960e-04\n",
      "Epoch 27/100\n",
      "\u001b[1m143/143\u001b[0m \u001b[32m━━━━━━━━━━━━━━━━━━━━\u001b[0m\u001b[37m\u001b[0m \u001b[1m20s\u001b[0m 125ms/step - accuracy: 0.9062 - loss: 0.5202 - val_accuracy: 0.5809 - val_loss: 1.6166 - learning_rate: 4.0960e-04\n",
      "Epoch 28/100\n",
      "\u001b[1m143/143\u001b[0m \u001b[32m━━━━━━━━━━━━━━━━━━━━\u001b[0m\u001b[37m\u001b[0m \u001b[1m18s\u001b[0m 128ms/step - accuracy: 0.9109 - loss: 0.5257 - val_accuracy: 0.9230 - val_loss: 0.4692 - learning_rate: 4.0960e-04\n",
      "Epoch 29/100\n",
      "\u001b[1m143/143\u001b[0m \u001b[32m━━━━━━━━━━━━━━━━━━━━\u001b[0m\u001b[37m\u001b[0m \u001b[1m20s\u001b[0m 126ms/step - accuracy: 0.9079 - loss: 0.5257 - val_accuracy: 0.7375 - val_loss: 1.0544 - learning_rate: 4.0960e-04\n",
      "Epoch 30/100\n",
      "\u001b[1m143/143\u001b[0m \u001b[32m━━━━━━━━━━━━━━━━━━━━\u001b[0m\u001b[37m\u001b[0m \u001b[1m21s\u001b[0m 127ms/step - accuracy: 0.9193 - loss: 0.5171 - val_accuracy: 0.8714 - val_loss: 0.6480 - learning_rate: 4.0960e-04\n",
      "Epoch 31/100\n",
      "\u001b[1m143/143\u001b[0m \u001b[32m━━━━━━━━━━━━━━━━━━━━\u001b[0m\u001b[37m\u001b[0m \u001b[1m0s\u001b[0m 118ms/step - accuracy: 0.9102 - loss: 0.5395\n",
      "Epoch 31: ReduceLROnPlateau reducing learning rate to 0.00032768002711236477.\n",
      "\u001b[1m143/143\u001b[0m \u001b[32m━━━━━━━━━━━━━━━━━━━━\u001b[0m\u001b[37m\u001b[0m \u001b[1m20s\u001b[0m 125ms/step - accuracy: 0.9102 - loss: 0.5394 - val_accuracy: 0.8136 - val_loss: 0.8038 - learning_rate: 4.0960e-04\n",
      "Epoch 32/100\n",
      "\u001b[1m143/143\u001b[0m \u001b[32m━━━━━━━━━━━━━━━━━━━━\u001b[0m\u001b[37m\u001b[0m \u001b[1m20s\u001b[0m 125ms/step - accuracy: 0.9157 - loss: 0.4981 - val_accuracy: 0.8933 - val_loss: 0.5093 - learning_rate: 3.2768e-04\n",
      "Epoch 33/100\n",
      "\u001b[1m143/143\u001b[0m \u001b[32m━━━━━━━━━━━━━━━━━━━━\u001b[0m\u001b[37m\u001b[0m \u001b[1m21s\u001b[0m 127ms/step - accuracy: 0.9283 - loss: 0.4218 - val_accuracy: 0.7384 - val_loss: 0.9535 - learning_rate: 3.2768e-04\n",
      "Epoch 34/100\n",
      "\u001b[1m143/143\u001b[0m \u001b[32m━━━━━━━━━━━━━━━━━━━━\u001b[0m\u001b[37m\u001b[0m \u001b[1m0s\u001b[0m 118ms/step - accuracy: 0.9199 - loss: 0.4723\n",
      "Epoch 34: ReduceLROnPlateau reducing learning rate to 0.0002621440216898918.\n",
      "\u001b[1m143/143\u001b[0m \u001b[32m━━━━━━━━━━━━━━━━━━━━\u001b[0m\u001b[37m\u001b[0m \u001b[1m18s\u001b[0m 127ms/step - accuracy: 0.9199 - loss: 0.4722 - val_accuracy: 0.7734 - val_loss: 0.9432 - learning_rate: 3.2768e-04\n",
      "Epoch 35/100\n",
      "\u001b[1m143/143\u001b[0m \u001b[32m━━━━━━━━━━━━━━━━━━━━\u001b[0m\u001b[37m\u001b[0m \u001b[1m20s\u001b[0m 127ms/step - accuracy: 0.9359 - loss: 0.3939 - val_accuracy: 0.9134 - val_loss: 0.4182 - learning_rate: 2.6214e-04\n",
      "Epoch 36/100\n",
      "\u001b[1m143/143\u001b[0m \u001b[32m━━━━━━━━━━━━━━━━━━━━\u001b[0m\u001b[37m\u001b[0m \u001b[1m18s\u001b[0m 125ms/step - accuracy: 0.9326 - loss: 0.3945 - val_accuracy: 0.8110 - val_loss: 0.7400 - learning_rate: 2.6214e-04\n",
      "Epoch 37/100\n",
      "\u001b[1m143/143\u001b[0m \u001b[32m━━━━━━━━━━━━━━━━━━━━\u001b[0m\u001b[37m\u001b[0m \u001b[1m0s\u001b[0m 118ms/step - accuracy: 0.9375 - loss: 0.3882\n",
      "Epoch 37: ReduceLROnPlateau reducing learning rate to 0.00020971521735191345.\n",
      "\u001b[1m143/143\u001b[0m \u001b[32m━━━━━━━━━━━━━━━━━━━━\u001b[0m\u001b[37m\u001b[0m \u001b[1m21s\u001b[0m 128ms/step - accuracy: 0.9375 - loss: 0.3882 - val_accuracy: 0.9038 - val_loss: 0.4550 - learning_rate: 2.6214e-04\n",
      "Epoch 38/100\n",
      "\u001b[1m143/143\u001b[0m \u001b[32m━━━━━━━━━━━━━━━━━━━━\u001b[0m\u001b[37m\u001b[0m \u001b[1m20s\u001b[0m 125ms/step - accuracy: 0.9459 - loss: 0.3384 - val_accuracy: 0.8819 - val_loss: 0.5444 - learning_rate: 2.0972e-04\n",
      "Epoch 39/100\n",
      "\u001b[1m143/143\u001b[0m \u001b[32m━━━━━━━━━━━━━━━━━━━━\u001b[0m\u001b[37m\u001b[0m \u001b[1m21s\u001b[0m 127ms/step - accuracy: 0.9379 - loss: 0.3516 - val_accuracy: 0.9361 - val_loss: 0.3609 - learning_rate: 2.0972e-04\n",
      "Epoch 40/100\n",
      "\u001b[1m143/143\u001b[0m \u001b[32m━━━━━━━━━━━━━━━━━━━━\u001b[0m\u001b[37m\u001b[0m \u001b[1m18s\u001b[0m 125ms/step - accuracy: 0.9535 - loss: 0.3013 - val_accuracy: 0.9230 - val_loss: 0.3791 - learning_rate: 2.0972e-04\n",
      "Epoch 41/100\n",
      "\u001b[1m143/143\u001b[0m \u001b[32m━━━━━━━━━━━━━━━━━━━━\u001b[0m\u001b[37m\u001b[0m \u001b[1m18s\u001b[0m 124ms/step - accuracy: 0.9466 - loss: 0.3231 - val_accuracy: 0.8880 - val_loss: 0.4842 - learning_rate: 2.0972e-04\n",
      "Epoch 42/100\n",
      "\u001b[1m143/143\u001b[0m \u001b[32m━━━━━━━━━━━━━━━━━━━━\u001b[0m\u001b[37m\u001b[0m \u001b[1m0s\u001b[0m 118ms/step - accuracy: 0.9429 - loss: 0.3241\n",
      "Epoch 42: ReduceLROnPlateau reducing learning rate to 0.00016777217388153076.\n",
      "\u001b[1m143/143\u001b[0m \u001b[32m━━━━━━━━━━━━━━━━━━━━\u001b[0m\u001b[37m\u001b[0m \u001b[1m21s\u001b[0m 127ms/step - accuracy: 0.9429 - loss: 0.3241 - val_accuracy: 0.8749 - val_loss: 0.6101 - learning_rate: 2.0972e-04\n",
      "Epoch 43/100\n",
      "\u001b[1m143/143\u001b[0m \u001b[32m━━━━━━━━━━━━━━━━━━━━\u001b[0m\u001b[37m\u001b[0m \u001b[1m20s\u001b[0m 126ms/step - accuracy: 0.9487 - loss: 0.3241 - val_accuracy: 0.9388 - val_loss: 0.3450 - learning_rate: 1.6777e-04\n",
      "Epoch 44/100\n",
      "\u001b[1m143/143\u001b[0m \u001b[32m━━━━━━━━━━━━━━━━━━━━\u001b[0m\u001b[37m\u001b[0m \u001b[1m18s\u001b[0m 125ms/step - accuracy: 0.9561 - loss: 0.2965 - val_accuracy: 0.9108 - val_loss: 0.4306 - learning_rate: 1.6777e-04\n",
      "Epoch 45/100\n",
      "\u001b[1m143/143\u001b[0m \u001b[32m━━━━━━━━━━━━━━━━━━━━\u001b[0m\u001b[37m\u001b[0m \u001b[1m18s\u001b[0m 127ms/step - accuracy: 0.9445 - loss: 0.3031 - val_accuracy: 0.9353 - val_loss: 0.3429 - learning_rate: 1.6777e-04\n",
      "Epoch 46/100\n",
      "\u001b[1m143/143\u001b[0m \u001b[32m━━━━━━━━━━━━━━━━━━━━\u001b[0m\u001b[37m\u001b[0m \u001b[1m0s\u001b[0m 117ms/step - accuracy: 0.9517 - loss: 0.2925\n",
      "Epoch 46: ReduceLROnPlateau reducing learning rate to 0.00013421773910522462.\n",
      "\u001b[1m143/143\u001b[0m \u001b[32m━━━━━━━━━━━━━━━━━━━━\u001b[0m\u001b[37m\u001b[0m \u001b[1m18s\u001b[0m 124ms/step - accuracy: 0.9517 - loss: 0.2925 - val_accuracy: 0.8898 - val_loss: 0.4734 - learning_rate: 1.6777e-04\n",
      "Epoch 47/100\n",
      "\u001b[1m143/143\u001b[0m \u001b[32m━━━━━━━━━━━━━━━━━━━━\u001b[0m\u001b[37m\u001b[0m \u001b[1m21s\u001b[0m 127ms/step - accuracy: 0.9475 - loss: 0.2858 - val_accuracy: 0.9204 - val_loss: 0.3888 - learning_rate: 1.3422e-04\n",
      "Epoch 48/100\n",
      "\u001b[1m143/143\u001b[0m \u001b[32m━━━━━━━━━━━━━━━━━━━━\u001b[0m\u001b[37m\u001b[0m \u001b[1m21s\u001b[0m 128ms/step - accuracy: 0.9476 - loss: 0.2816 - val_accuracy: 0.9431 - val_loss: 0.3141 - learning_rate: 1.3422e-04\n",
      "Epoch 49/100\n",
      "\u001b[1m143/143\u001b[0m \u001b[32m━━━━━━━━━━━━━━━━━━━━\u001b[0m\u001b[37m\u001b[0m \u001b[1m20s\u001b[0m 127ms/step - accuracy: 0.9580 - loss: 0.2618 - val_accuracy: 0.9344 - val_loss: 0.3185 - learning_rate: 1.3422e-04\n",
      "Epoch 50/100\n",
      "\u001b[1m143/143\u001b[0m \u001b[32m━━━━━━━━━━━━━━━━━━━━\u001b[0m\u001b[37m\u001b[0m \u001b[1m21s\u001b[0m 127ms/step - accuracy: 0.9578 - loss: 0.2528 - val_accuracy: 0.9466 - val_loss: 0.2666 - learning_rate: 1.3422e-04\n",
      "Epoch 51/100\n",
      "\u001b[1m143/143\u001b[0m \u001b[32m━━━━━━━━━━━━━━━━━━━━\u001b[0m\u001b[37m\u001b[0m \u001b[1m18s\u001b[0m 127ms/step - accuracy: 0.9591 - loss: 0.2536 - val_accuracy: 0.9414 - val_loss: 0.2840 - learning_rate: 1.3422e-04\n",
      "Epoch 52/100\n",
      "\u001b[1m143/143\u001b[0m \u001b[32m━━━━━━━━━━━━━━━━━━━━\u001b[0m\u001b[37m\u001b[0m \u001b[1m20s\u001b[0m 125ms/step - accuracy: 0.9509 - loss: 0.2706 - val_accuracy: 0.9318 - val_loss: 0.3578 - learning_rate: 1.3422e-04\n",
      "Epoch 53/100\n",
      "\u001b[1m143/143\u001b[0m \u001b[32m━━━━━━━━━━━━━━━━━━━━\u001b[0m\u001b[37m\u001b[0m \u001b[1m0s\u001b[0m 118ms/step - accuracy: 0.9559 - loss: 0.2678\n",
      "Epoch 53: ReduceLROnPlateau reducing learning rate to 0.00010737419361248613.\n",
      "\u001b[1m143/143\u001b[0m \u001b[32m━━━━━━━━━━━━━━━━━━━━\u001b[0m\u001b[37m\u001b[0m \u001b[1m20s\u001b[0m 125ms/step - accuracy: 0.9559 - loss: 0.2677 - val_accuracy: 0.9379 - val_loss: 0.3160 - learning_rate: 1.3422e-04\n",
      "Epoch 54/100\n",
      "\u001b[1m143/143\u001b[0m \u001b[32m━━━━━━━━━━━━━━━━━━━━\u001b[0m\u001b[37m\u001b[0m \u001b[1m21s\u001b[0m 128ms/step - accuracy: 0.9586 - loss: 0.2543 - val_accuracy: 0.9536 - val_loss: 0.2483 - learning_rate: 1.0737e-04\n",
      "Epoch 55/100\n",
      "\u001b[1m143/143\u001b[0m \u001b[32m━━━━━━━━━━━━━━━━━━━━\u001b[0m\u001b[37m\u001b[0m \u001b[1m18s\u001b[0m 124ms/step - accuracy: 0.9645 - loss: 0.2118 - val_accuracy: 0.9195 - val_loss: 0.3562 - learning_rate: 1.0737e-04\n",
      "Epoch 56/100\n",
      "\u001b[1m143/143\u001b[0m \u001b[32m━━━━━━━━━━━━━━━━━━━━\u001b[0m\u001b[37m\u001b[0m \u001b[1m21s\u001b[0m 125ms/step - accuracy: 0.9579 - loss: 0.2347 - val_accuracy: 0.9449 - val_loss: 0.2977 - learning_rate: 1.0737e-04\n",
      "Epoch 57/100\n",
      "\u001b[1m143/143\u001b[0m \u001b[32m━━━━━━━━━━━━━━━━━━━━\u001b[0m\u001b[37m\u001b[0m \u001b[1m0s\u001b[0m 118ms/step - accuracy: 0.9585 - loss: 0.2370\n",
      "Epoch 57: ReduceLROnPlateau reducing learning rate to 8.589935605414213e-05.\n",
      "\u001b[1m143/143\u001b[0m \u001b[32m━━━━━━━━━━━━━━━━━━━━\u001b[0m\u001b[37m\u001b[0m \u001b[1m21s\u001b[0m 128ms/step - accuracy: 0.9586 - loss: 0.2369 - val_accuracy: 0.9213 - val_loss: 0.3383 - learning_rate: 1.0737e-04\n",
      "Epoch 58/100\n",
      "\u001b[1m143/143\u001b[0m \u001b[32m━━━━━━━━━━━━━━━━━━━━\u001b[0m\u001b[37m\u001b[0m \u001b[1m20s\u001b[0m 125ms/step - accuracy: 0.9622 - loss: 0.2116 - val_accuracy: 0.9475 - val_loss: 0.2843 - learning_rate: 8.5899e-05\n",
      "Epoch 59/100\n",
      "\u001b[1m143/143\u001b[0m \u001b[32m━━━━━━━━━━━━━━━━━━━━\u001b[0m\u001b[37m\u001b[0m \u001b[1m21s\u001b[0m 127ms/step - accuracy: 0.9644 - loss: 0.2095 - val_accuracy: 0.9431 - val_loss: 0.2722 - learning_rate: 8.5899e-05\n",
      "Epoch 60/100\n",
      "\u001b[1m143/143\u001b[0m \u001b[32m━━━━━━━━━━━━━━━━━━━━\u001b[0m\u001b[37m\u001b[0m \u001b[1m0s\u001b[0m 118ms/step - accuracy: 0.9667 - loss: 0.2008\n",
      "Epoch 60: ReduceLROnPlateau reducing learning rate to 6.871948717162013e-05.\n",
      "\u001b[1m143/143\u001b[0m \u001b[32m━━━━━━━━━━━━━━━━━━━━\u001b[0m\u001b[37m\u001b[0m \u001b[1m21s\u001b[0m 128ms/step - accuracy: 0.9667 - loss: 0.2008 - val_accuracy: 0.9501 - val_loss: 0.2567 - learning_rate: 8.5899e-05\n",
      "Epoch 61/100\n",
      "\u001b[1m143/143\u001b[0m \u001b[32m━━━━━━━━━━━━━━━━━━━━\u001b[0m\u001b[37m\u001b[0m \u001b[1m20s\u001b[0m 126ms/step - accuracy: 0.9674 - loss: 0.1994 - val_accuracy: 0.9256 - val_loss: 0.3297 - learning_rate: 6.8719e-05\n",
      "Epoch 62/100\n",
      "\u001b[1m143/143\u001b[0m \u001b[32m━━━━━━━━━━━━━━━━━━━━\u001b[0m\u001b[37m\u001b[0m \u001b[1m21s\u001b[0m 127ms/step - accuracy: 0.9653 - loss: 0.2069 - val_accuracy: 0.9318 - val_loss: 0.3292 - learning_rate: 6.8719e-05\n",
      "Epoch 63/100\n",
      "\u001b[1m143/143\u001b[0m \u001b[32m━━━━━━━━━━━━━━━━━━━━\u001b[0m\u001b[37m\u001b[0m \u001b[1m0s\u001b[0m 118ms/step - accuracy: 0.9652 - loss: 0.1934\n",
      "Epoch 63: ReduceLROnPlateau reducing learning rate to 5.497558740898967e-05.\n",
      "\u001b[1m143/143\u001b[0m \u001b[32m━━━━━━━━━━━━━━━━━━━━\u001b[0m\u001b[37m\u001b[0m \u001b[1m18s\u001b[0m 127ms/step - accuracy: 0.9652 - loss: 0.1934 - val_accuracy: 0.9300 - val_loss: 0.3218 - learning_rate: 6.8719e-05\n",
      "Epoch 64/100\n",
      "\u001b[1m143/143\u001b[0m \u001b[32m━━━━━━━━━━━━━━━━━━━━\u001b[0m\u001b[37m\u001b[0m \u001b[1m20s\u001b[0m 127ms/step - accuracy: 0.9687 - loss: 0.1955 - val_accuracy: 0.9230 - val_loss: 0.3485 - learning_rate: 5.4976e-05\n",
      "Epoch 65/100\n",
      "\u001b[1m143/143\u001b[0m \u001b[32m━━━━━━━━━━━━━━━━━━━━\u001b[0m\u001b[37m\u001b[0m \u001b[1m20s\u001b[0m 125ms/step - accuracy: 0.9681 - loss: 0.1848 - val_accuracy: 0.9536 - val_loss: 0.2498 - learning_rate: 5.4976e-05\n",
      "Epoch 66/100\n",
      "\u001b[1m143/143\u001b[0m \u001b[32m━━━━━━━━━━━━━━━━━━━━\u001b[0m\u001b[37m\u001b[0m \u001b[1m0s\u001b[0m 119ms/step - accuracy: 0.9720 - loss: 0.1713\n",
      "Epoch 66: ReduceLROnPlateau reducing learning rate to 4.398046876303852e-05.\n",
      "\u001b[1m143/143\u001b[0m \u001b[32m━━━━━━━━━━━━━━━━━━━━\u001b[0m\u001b[37m\u001b[0m \u001b[1m21s\u001b[0m 126ms/step - accuracy: 0.9719 - loss: 0.1714 - val_accuracy: 0.9440 - val_loss: 0.2831 - learning_rate: 5.4976e-05\n",
      "Epoch 67/100\n",
      "\u001b[1m143/143\u001b[0m \u001b[32m━━━━━━━━━━━━━━━━━━━━\u001b[0m\u001b[37m\u001b[0m \u001b[1m21s\u001b[0m 126ms/step - accuracy: 0.9693 - loss: 0.1793 - val_accuracy: 0.9405 - val_loss: 0.2653 - learning_rate: 4.3980e-05\n",
      "Epoch 68/100\n",
      "\u001b[1m143/143\u001b[0m \u001b[32m━━━━━━━━━━━━━━━━━━━━\u001b[0m\u001b[37m\u001b[0m \u001b[1m21s\u001b[0m 127ms/step - accuracy: 0.9746 - loss: 0.1636 - val_accuracy: 0.9484 - val_loss: 0.2610 - learning_rate: 4.3980e-05\n",
      "Epoch 69/100\n",
      "\u001b[1m143/143\u001b[0m \u001b[32m━━━━━━━━━━━━━━━━━━━━\u001b[0m\u001b[37m\u001b[0m \u001b[1m0s\u001b[0m 118ms/step - accuracy: 0.9700 - loss: 0.1688\n",
      "Epoch 69: ReduceLROnPlateau reducing learning rate to 3.518437442835421e-05.\n",
      "\u001b[1m143/143\u001b[0m \u001b[32m━━━━━━━━━━━━━━━━━━━━\u001b[0m\u001b[37m\u001b[0m \u001b[1m20s\u001b[0m 127ms/step - accuracy: 0.9700 - loss: 0.1688 - val_accuracy: 0.9335 - val_loss: 0.2808 - learning_rate: 4.3980e-05\n",
      "Epoch 70/100\n",
      "\u001b[1m143/143\u001b[0m \u001b[32m━━━━━━━━━━━━━━━━━━━━\u001b[0m\u001b[37m\u001b[0m \u001b[1m20s\u001b[0m 125ms/step - accuracy: 0.9758 - loss: 0.1581 - val_accuracy: 0.9528 - val_loss: 0.2468 - learning_rate: 3.5184e-05\n",
      "Epoch 71/100\n",
      "\u001b[1m143/143\u001b[0m \u001b[32m━━━━━━━━━━━━━━━━━━━━\u001b[0m\u001b[37m\u001b[0m \u001b[1m21s\u001b[0m 127ms/step - accuracy: 0.9769 - loss: 0.1464 - val_accuracy: 0.9475 - val_loss: 0.2455 - learning_rate: 3.5184e-05\n",
      "Epoch 72/100\n",
      "\u001b[1m143/143\u001b[0m \u001b[32m━━━━━━━━━━━━━━━━━━━━\u001b[0m\u001b[37m\u001b[0m \u001b[1m20s\u001b[0m 125ms/step - accuracy: 0.9741 - loss: 0.1579 - val_accuracy: 0.9545 - val_loss: 0.2167 - learning_rate: 3.5184e-05\n",
      "Epoch 73/100\n",
      "\u001b[1m143/143\u001b[0m \u001b[32m━━━━━━━━━━━━━━━━━━━━\u001b[0m\u001b[37m\u001b[0m \u001b[1m18s\u001b[0m 128ms/step - accuracy: 0.9725 - loss: 0.1574 - val_accuracy: 0.9554 - val_loss: 0.2138 - learning_rate: 3.5184e-05\n",
      "Epoch 74/100\n",
      "\u001b[1m143/143\u001b[0m \u001b[32m━━━━━━━━━━━━━━━━━━━━\u001b[0m\u001b[37m\u001b[0m \u001b[1m20s\u001b[0m 127ms/step - accuracy: 0.9783 - loss: 0.1415 - val_accuracy: 0.9431 - val_loss: 0.2483 - learning_rate: 3.5184e-05\n",
      "Epoch 75/100\n",
      "\u001b[1m143/143\u001b[0m \u001b[32m━━━━━━━━━━━━━━━━━━━━\u001b[0m\u001b[37m\u001b[0m \u001b[1m20s\u001b[0m 126ms/step - accuracy: 0.9745 - loss: 0.1563 - val_accuracy: 0.9510 - val_loss: 0.2339 - learning_rate: 3.5184e-05\n",
      "Epoch 76/100\n",
      "\u001b[1m143/143\u001b[0m \u001b[32m━━━━━━━━━━━━━━━━━━━━\u001b[0m\u001b[37m\u001b[0m \u001b[1m0s\u001b[0m 119ms/step - accuracy: 0.9755 - loss: 0.1552\n",
      "Epoch 76: ReduceLROnPlateau reducing learning rate to 2.8147498960606756e-05.\n",
      "\u001b[1m143/143\u001b[0m \u001b[32m━━━━━━━━━━━━━━━━━━━━\u001b[0m\u001b[37m\u001b[0m \u001b[1m21s\u001b[0m 126ms/step - accuracy: 0.9755 - loss: 0.1551 - val_accuracy: 0.9536 - val_loss: 0.2212 - learning_rate: 3.5184e-05\n",
      "Epoch 77/100\n",
      "\u001b[1m143/143\u001b[0m \u001b[32m━━━━━━━━━━━━━━━━━━━━\u001b[0m\u001b[37m\u001b[0m \u001b[1m18s\u001b[0m 128ms/step - accuracy: 0.9771 - loss: 0.1459 - val_accuracy: 0.9449 - val_loss: 0.2645 - learning_rate: 2.8147e-05\n",
      "Epoch 78/100\n",
      "\u001b[1m143/143\u001b[0m \u001b[32m━━━━━━━━━━━━━━━━━━━━\u001b[0m\u001b[37m\u001b[0m \u001b[1m18s\u001b[0m 127ms/step - accuracy: 0.9705 - loss: 0.1625 - val_accuracy: 0.9344 - val_loss: 0.2875 - learning_rate: 2.8147e-05\n",
      "Epoch 79/100\n",
      "\u001b[1m143/143\u001b[0m \u001b[32m━━━━━━━━━━━━━━━━━━━━\u001b[0m\u001b[37m\u001b[0m \u001b[1m0s\u001b[0m 119ms/step - accuracy: 0.9782 - loss: 0.1433\n",
      "Epoch 79: ReduceLROnPlateau reducing learning rate to 2.25179988774471e-05.\n",
      "\u001b[1m143/143\u001b[0m \u001b[32m━━━━━━━━━━━━━━━━━━━━\u001b[0m\u001b[37m\u001b[0m \u001b[1m20s\u001b[0m 126ms/step - accuracy: 0.9782 - loss: 0.1433 - val_accuracy: 0.9440 - val_loss: 0.2566 - learning_rate: 2.8147e-05\n",
      "Epoch 80/100\n",
      "\u001b[1m143/143\u001b[0m \u001b[32m━━━━━━━━━━━━━━━━━━━━\u001b[0m\u001b[37m\u001b[0m \u001b[1m18s\u001b[0m 127ms/step - accuracy: 0.9762 - loss: 0.1393 - val_accuracy: 0.9449 - val_loss: 0.2624 - learning_rate: 2.2518e-05\n",
      "Epoch 81/100\n",
      "\u001b[1m143/143\u001b[0m \u001b[32m━━━━━━━━━━━━━━━━━━━━\u001b[0m\u001b[37m\u001b[0m \u001b[1m18s\u001b[0m 128ms/step - accuracy: 0.9759 - loss: 0.1394 - val_accuracy: 0.9493 - val_loss: 0.2449 - learning_rate: 2.2518e-05\n",
      "Epoch 82/100\n",
      "\u001b[1m143/143\u001b[0m \u001b[32m━━━━━━━━━━━━━━━━━━━━\u001b[0m\u001b[37m\u001b[0m \u001b[1m0s\u001b[0m 118ms/step - accuracy: 0.9760 - loss: 0.1429\n",
      "Epoch 82: ReduceLROnPlateau reducing learning rate to 1.8014399392995985e-05.\n",
      "\u001b[1m143/143\u001b[0m \u001b[32m━━━━━━━━━━━━━━━━━━━━\u001b[0m\u001b[37m\u001b[0m \u001b[1m18s\u001b[0m 125ms/step - accuracy: 0.9760 - loss: 0.1429 - val_accuracy: 0.9545 - val_loss: 0.2115 - learning_rate: 2.2518e-05\n",
      "Epoch 83/100\n",
      "\u001b[1m143/143\u001b[0m \u001b[32m━━━━━━━━━━━━━━━━━━━━\u001b[0m\u001b[37m\u001b[0m \u001b[1m20s\u001b[0m 125ms/step - accuracy: 0.9779 - loss: 0.1429 - val_accuracy: 0.9475 - val_loss: 0.2431 - learning_rate: 1.8014e-05\n",
      "Epoch 84/100\n",
      "\u001b[1m143/143\u001b[0m \u001b[32m━━━━━━━━━━━━━━━━━━━━\u001b[0m\u001b[37m\u001b[0m \u001b[1m21s\u001b[0m 126ms/step - accuracy: 0.9789 - loss: 0.1372 - val_accuracy: 0.9563 - val_loss: 0.2094 - learning_rate: 1.8014e-05\n",
      "Epoch 85/100\n",
      "\u001b[1m143/143\u001b[0m \u001b[32m━━━━━━━━━━━━━━━━━━━━\u001b[0m\u001b[37m\u001b[0m \u001b[1m18s\u001b[0m 127ms/step - accuracy: 0.9768 - loss: 0.1395 - val_accuracy: 0.9396 - val_loss: 0.2517 - learning_rate: 1.8014e-05\n",
      "Epoch 86/100\n",
      "\u001b[1m143/143\u001b[0m \u001b[32m━━━━━━━━━━━━━━━━━━━━\u001b[0m\u001b[37m\u001b[0m \u001b[1m20s\u001b[0m 125ms/step - accuracy: 0.9778 - loss: 0.1350 - val_accuracy: 0.9510 - val_loss: 0.2410 - learning_rate: 1.8014e-05\n",
      "Epoch 87/100\n",
      "\u001b[1m143/143\u001b[0m \u001b[32m━━━━━━━━━━━━━━━━━━━━\u001b[0m\u001b[37m\u001b[0m \u001b[1m0s\u001b[0m 119ms/step - accuracy: 0.9738 - loss: 0.1351\n",
      "Epoch 87: ReduceLROnPlateau reducing learning rate to 1.4411519805435093e-05.\n",
      "\u001b[1m143/143\u001b[0m \u001b[32m━━━━━━━━━━━━━━━━━━━━\u001b[0m\u001b[37m\u001b[0m \u001b[1m21s\u001b[0m 126ms/step - accuracy: 0.9738 - loss: 0.1350 - val_accuracy: 0.9501 - val_loss: 0.2354 - learning_rate: 1.8014e-05\n",
      "Epoch 88/100\n",
      "\u001b[1m143/143\u001b[0m \u001b[32m━━━━━━━━━━━━━━━━━━━━\u001b[0m\u001b[37m\u001b[0m \u001b[1m21s\u001b[0m 128ms/step - accuracy: 0.9751 - loss: 0.1293 - val_accuracy: 0.9545 - val_loss: 0.2115 - learning_rate: 1.4412e-05\n",
      "Epoch 89/100\n",
      "\u001b[1m143/143\u001b[0m \u001b[32m━━━━━━━━━━━━━━━━━━━━\u001b[0m\u001b[37m\u001b[0m \u001b[1m18s\u001b[0m 125ms/step - accuracy: 0.9795 - loss: 0.1273 - val_accuracy: 0.9423 - val_loss: 0.2626 - learning_rate: 1.4412e-05\n",
      "Epoch 90/100\n",
      "\u001b[1m143/143\u001b[0m \u001b[32m━━━━━━━━━━━━━━━━━━━━\u001b[0m\u001b[37m\u001b[0m \u001b[1m0s\u001b[0m 118ms/step - accuracy: 0.9843 - loss: 0.1237\n",
      "Epoch 90: ReduceLROnPlateau reducing learning rate to 1.1529216135386379e-05.\n",
      "\u001b[1m143/143\u001b[0m \u001b[32m━━━━━━━━━━━━━━━━━━━━\u001b[0m\u001b[37m\u001b[0m \u001b[1m18s\u001b[0m 128ms/step - accuracy: 0.9843 - loss: 0.1237 - val_accuracy: 0.9466 - val_loss: 0.2456 - learning_rate: 1.4412e-05\n",
      "Epoch 91/100\n",
      "\u001b[1m143/143\u001b[0m \u001b[32m━━━━━━━━━━━━━━━━━━━━\u001b[0m\u001b[37m\u001b[0m \u001b[1m20s\u001b[0m 127ms/step - accuracy: 0.9793 - loss: 0.1223 - val_accuracy: 0.9449 - val_loss: 0.2443 - learning_rate: 1.1529e-05\n",
      "Epoch 92/100\n",
      "\u001b[1m143/143\u001b[0m \u001b[32m━━━━━━━━━━━━━━━━━━━━\u001b[0m\u001b[37m\u001b[0m \u001b[1m20s\u001b[0m 127ms/step - accuracy: 0.9753 - loss: 0.1298 - val_accuracy: 0.9510 - val_loss: 0.2259 - learning_rate: 1.1529e-05\n",
      "Epoch 93/100\n",
      "\u001b[1m143/143\u001b[0m \u001b[32m━━━━━━━━━━━━━━━━━━━━\u001b[0m\u001b[37m\u001b[0m \u001b[1m0s\u001b[0m 119ms/step - accuracy: 0.9802 - loss: 0.1264\n",
      "Epoch 93: ReduceLROnPlateau reducing learning rate to 9.223372762789951e-06.\n",
      "\u001b[1m143/143\u001b[0m \u001b[32m━━━━━━━━━━━━━━━━━━━━\u001b[0m\u001b[37m\u001b[0m \u001b[1m21s\u001b[0m 128ms/step - accuracy: 0.9802 - loss: 0.1264 - val_accuracy: 0.9466 - val_loss: 0.2464 - learning_rate: 1.1529e-05\n",
      "Epoch 94/100\n",
      "\u001b[1m143/143\u001b[0m \u001b[32m━━━━━━━━━━━━━━━━━━━━\u001b[0m\u001b[37m\u001b[0m \u001b[1m18s\u001b[0m 128ms/step - accuracy: 0.9791 - loss: 0.1250 - val_accuracy: 0.9528 - val_loss: 0.2189 - learning_rate: 9.2234e-06\n",
      "Epoch 95/100\n",
      "\u001b[1m143/143\u001b[0m \u001b[32m━━━━━━━━━━━━━━━━━━━━\u001b[0m\u001b[37m\u001b[0m \u001b[1m18s\u001b[0m 125ms/step - accuracy: 0.9763 - loss: 0.1326 - val_accuracy: 0.9493 - val_loss: 0.2278 - learning_rate: 9.2234e-06\n",
      "Epoch 96/100\n",
      "\u001b[1m143/143\u001b[0m \u001b[32m━━━━━━━━━━━━━━━━━━━━\u001b[0m\u001b[37m\u001b[0m \u001b[1m0s\u001b[0m 119ms/step - accuracy: 0.9823 - loss: 0.1193\n",
      "Epoch 96: ReduceLROnPlateau reducing learning rate to 7.378698501270265e-06.\n",
      "\u001b[1m143/143\u001b[0m \u001b[32m━━━━━━━━━━━━━━━━━━━━\u001b[0m\u001b[37m\u001b[0m \u001b[1m21s\u001b[0m 127ms/step - accuracy: 0.9823 - loss: 0.1193 - val_accuracy: 0.9510 - val_loss: 0.2321 - learning_rate: 9.2234e-06\n",
      "Epoch 97/100\n",
      "\u001b[1m143/143\u001b[0m \u001b[32m━━━━━━━━━━━━━━━━━━━━\u001b[0m\u001b[37m\u001b[0m \u001b[1m21s\u001b[0m 129ms/step - accuracy: 0.9772 - loss: 0.1251 - val_accuracy: 0.9484 - val_loss: 0.2259 - learning_rate: 7.3787e-06\n",
      "Epoch 98/100\n",
      "\u001b[1m143/143\u001b[0m \u001b[32m━━━━━━━━━━━━━━━━━━━━\u001b[0m\u001b[37m\u001b[0m \u001b[1m20s\u001b[0m 129ms/step - accuracy: 0.9797 - loss: 0.1241 - val_accuracy: 0.9493 - val_loss: 0.2209 - learning_rate: 7.3787e-06\n",
      "Epoch 99/100\n",
      "\u001b[1m143/143\u001b[0m \u001b[32m━━━━━━━━━━━━━━━━━━━━\u001b[0m\u001b[37m\u001b[0m \u001b[1m0s\u001b[0m 120ms/step - accuracy: 0.9778 - loss: 0.1222\n",
      "Epoch 99: ReduceLROnPlateau reducing learning rate to 5.902958946535364e-06.\n",
      "\u001b[1m143/143\u001b[0m \u001b[32m━━━━━━━━━━━━━━━━━━━━\u001b[0m\u001b[37m\u001b[0m \u001b[1m20s\u001b[0m 127ms/step - accuracy: 0.9778 - loss: 0.1222 - val_accuracy: 0.9493 - val_loss: 0.2211 - learning_rate: 7.3787e-06\n",
      "Epoch 100/100\n",
      "\u001b[1m143/143\u001b[0m \u001b[32m━━━━━━━━━━━━━━━━━━━━\u001b[0m\u001b[37m\u001b[0m \u001b[1m19s\u001b[0m 130ms/step - accuracy: 0.9813 - loss: 0.1174 - val_accuracy: 0.9475 - val_loss: 0.2275 - learning_rate: 5.9030e-06\n"
     ]
    },
    {
     "data": {
      "text/plain": [
       "<keras.src.callbacks.history.History at 0x7cb12bdab450>"
      ]
     },
     "execution_count": 21,
     "metadata": {},
     "output_type": "execute_result"
    }
   ],
   "source": [
    "model.fit(X,Y,validation_data=(tx,ty),epochs=100,callbacks=[red,early])"
   ]
  },
  {
   "cell_type": "markdown",
   "id": "54776240-8aa5-4b68-ad6a-2f290f40f679",
   "metadata": {},
   "source": [
    "## Evaluating the Model\n",
    "Assessing the model's performance using accuracy metric"
   ]
  },
  {
   "cell_type": "code",
   "execution_count": null,
   "id": "8838162e-4c33-4453-ba25-eb138e271e41",
   "metadata": {
    "colab": {
     "base_uri": "https://localhost:8080/"
    },
    "id": "8838162e-4c33-4453-ba25-eb138e271e41",
    "outputId": "971d8fcb-06c3-4e97-bda9-3d434b74b750"
   },
   "outputs": [
    {
     "name": "stdout",
     "output_type": "stream",
     "text": [
      "\u001b[1m36/36\u001b[0m \u001b[32m━━━━━━━━━━━━━━━━━━━━\u001b[0m\u001b[37m\u001b[0m \u001b[1m1s\u001b[0m 30ms/step - accuracy: 0.9504 - loss: 0.2420\n"
     ]
    },
    {
     "data": {
      "text/plain": [
       "[0.2094089239835739, 0.9562554955482483]"
      ]
     },
     "execution_count": 22,
     "metadata": {},
     "output_type": "execute_result"
    }
   ],
   "source": [
    "model.evaluate(tx,ty)"
   ]
  },
  {
   "cell_type": "markdown",
   "id": "a0c664c6-ae17-4e7f-8fdd-679e1820f498",
   "metadata": {},
   "source": [
    "# Saving the model\n",
    "the model is saved for further testing "
   ]
  },
  {
   "cell_type": "code",
   "execution_count": null,
   "id": "nMqvXnT6U4gF",
   "metadata": {
    "id": "nMqvXnT6U4gF"
   },
   "outputs": [],
   "source": [
    "model.save(\"Brain_Tumour.keras\")"
   ]
  }
 ],
 "metadata": {
  "accelerator": "GPU",
  "colab": {
   "gpuType": "T4",
   "provenance": []
  },
  "kernelspec": {
   "display_name": "Python 3 (ipykernel)",
   "language": "python",
   "name": "python3"
  },
  "language_info": {
   "codemirror_mode": {
    "name": "ipython",
    "version": 3
   },
   "file_extension": ".py",
   "mimetype": "text/x-python",
   "name": "python",
   "nbconvert_exporter": "python",
   "pygments_lexer": "ipython3",
   "version": "3.12.3"
  }
 },
 "nbformat": 4,
 "nbformat_minor": 5
}
